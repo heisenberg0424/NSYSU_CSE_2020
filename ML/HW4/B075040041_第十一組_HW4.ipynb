{
 "cells": [
  {
   "cell_type": "code",
   "execution_count": 350,
   "metadata": {},
   "outputs": [],
   "source": [
    "import pandas as pd\n",
    "import numpy as np\n",
    "import matplotlib.pyplot as plt\n",
    "from sklearn import linear_model\n",
    "from sklearn import preprocessing\n",
    "from sklearn.model_selection import train_test_split\n",
    "from sklearn.metrics import mean_squared_error"
   ]
  },
  {
   "cell_type": "code",
   "execution_count": 351,
   "metadata": {},
   "outputs": [],
   "source": [
    "rawdata=pd.read_csv('HW4_house-prices.csv')\n",
    "pd.set_option('display.max_columns',None)\n",
    "#pd.set_option('display.max_rows',30)"
   ]
  },
  {
   "cell_type": "code",
   "execution_count": 352,
   "metadata": {},
   "outputs": [],
   "source": [
    "rawdata.fillna(rawdata.mean())\n",
    "rawdata.dropna(axis=1,inplace=True)"
   ]
  },
  {
   "cell_type": "code",
   "execution_count": 353,
   "metadata": {},
   "outputs": [],
   "source": [
    "rawdata=pd.get_dummies(rawdata)"
   ]
  },
  {
   "cell_type": "code",
   "execution_count": 354,
   "metadata": {},
   "outputs": [],
   "source": [
    "y=rawdata['SalePrice']\n",
    "X=rawdata.drop(columns='SalePrice')\n",
    "# std_y=y.copy()\n",
    "# std_X=X.copy()\n",
    "X_train,X_test,y_train,y_test=train_test_split(X,y,test_size=0.3,random_state=42)"
   ]
  },
  {
   "cell_type": "code",
   "execution_count": 355,
   "metadata": {},
   "outputs": [
    {
     "name": "stderr",
     "output_type": "stream",
     "text": [
      "/home/heisenberg/.local/lib/python3.8/site-packages/sklearn/linear_model/_coordinate_descent.py:529: ConvergenceWarning: Objective did not converge. You might want to increase the number of iterations. Duality gap: 87564043864.85944, tolerance: 615098412.8205525\n",
      "  model = cd_fast.enet_coordinate_descent(\n"
     ]
    }
   ],
   "source": [
    "regr=linear_model.LinearRegression()\n",
    "rid=linear_model.Ridge()\n",
    "lso=linear_model.Lasso()\n",
    "\n",
    "regr.fit(X_train,y_train)\n",
    "rid.fit(X_train,y_train)\n",
    "lso.fit(X_train,y_train)\n",
    "\n",
    "y_pred_regr=regr.predict(X_test)\n",
    "y_pred_rid=rid.predict(X_test)\n",
    "y_pred_lso=lso.predict(X_test)\n",
    "\n",
    "\n",
    "rid_MSE=mean_squared_error(y_test, y_pred_rid,squared=False)\n",
    "regr_MSE=mean_squared_error(y_test, y_pred_regr,squared=False)\n",
    "lso_MSE=mean_squared_error(y_test, y_pred_lso,squared=False)\n",
    "MSE={'regr':regr_MSE,'rid':rid_MSE,'lso':lso_MSE}\n",
    "min_MSE = min(MSE, key=MSE.get)\n",
    "\n",
    "\n",
    "# df = pd.DataFrame({'Actual': y_test, 'Predicted': y_pred})\n",
    "# df"
   ]
  },
  {
   "cell_type": "code",
   "execution_count": 356,
   "metadata": {},
   "outputs": [
    {
     "data": {
      "image/png": "[encoded data removed]",
      "text/plain": [
       "<Figure size 432x288 with 1 Axes>"
      ]
     },
     "metadata": {
      "needs_background": "light"
     },
     "output_type": "display_data"
    }
   ],
   "source": [
    "if min_MSE == 'regr':\n",
    "    plt.scatter(y_test,y_pred_regr,color='blue',s=10)\n",
    "if min_MSE == 'rid':\n",
    "    plt.scatter(y_test,y_pred_rid,color='blue',s=10)\n",
    "if min_MSE == 'lso':\n",
    "    plt.scatter(y_test,y_pred_lso,color='blue',s=10)\n",
    "plt.show()"
   ]
  },
  {
   "cell_type": "code",
   "execution_count": 357,
   "metadata": {},
   "outputs": [
    {
     "name": "stdout",
     "output_type": "stream",
     "text": [
      "{'regr': 28041.67651389797, 'rid': 28714.401348718176, 'lso': 27138.174826581882}\n",
      "{'regr': 3.814764824066993e+16, 'rid': 27095.27540806148, 'lso': 83545.17795000924}\n"
     ]
    }
   ],
   "source": [
    "X_train_sc=preprocessing.StandardScaler()\n",
    "X_test_sc=preprocessing.StandardScaler()\n",
    "y_train_sc=preprocessing.StandardScaler()\n",
    "X_train_sc.fit(X_train)\n",
    "X_test_sc.fit(X_test)\n",
    "y_train = np.array(y_train).reshape(-1, 1)\n",
    "y_train_sc.fit(y_train)\n",
    "std_X_train=X_train_sc.transform(X_train)\n",
    "std_X_test=X_test_sc.transform(X_test)\n",
    "std_y_train=y_train_sc.transform(y_train)\n",
    "\n",
    "regr.fit(std_X_train,std_y_train)\n",
    "rid.fit(std_X_train,std_y_train)\n",
    "lso.fit(std_X_train,std_y_train)\n",
    "\n",
    "std_y_pred_regr=regr.predict(std_X_test)\n",
    "std_y_pred_rid=rid.predict(std_X_test)\n",
    "std_y_pred_lso=lso.predict(std_X_test)\n",
    "\n",
    "std_y_pred_regr=y_train_sc.inverse_transform(std_y_pred_regr)\n",
    "std_y_pred_rid=y_train_sc.inverse_transform(std_y_pred_rid)\n",
    "std_y_pred_lso=y_train_sc.inverse_transform(std_y_pred_lso)\n",
    "\n",
    "std_rid_MSE=mean_squared_error(y_test, std_y_pred_rid,squared=False)\n",
    "std_regr_MSE=mean_squared_error(y_test, std_y_pred_regr,squared=False)\n",
    "std_lso_MSE=mean_squared_error(y_test, std_y_pred_lso,squared=False)\n",
    "std_MSE={'regr':std_regr_MSE,'rid':std_rid_MSE,'lso':std_lso_MSE}\n",
    "print(MSE)\n",
    "print(std_MSE)"
   ]
  },
  {
   "cell_type": "code",
   "execution_count": null,
   "metadata": {},
   "outputs": [],
   "source": []
  }
 ],
 "metadata": {
  "kernelspec": {
   "display_name": "Python 3",
   "language": "python",
   "name": "python3"
  },
  "language_info": {
   "codemirror_mode": {
    "name": "ipython",
    "version": 3
   },
   "file_extension": ".py",
   "mimetype": "text/x-python",
   "name": "python",
   "nbconvert_exporter": "python",
   "pygments_lexer": "ipython3",
   "version": "3.8.5"
  }
 },
 "nbformat": 4,
 "nbformat_minor": 4
}
