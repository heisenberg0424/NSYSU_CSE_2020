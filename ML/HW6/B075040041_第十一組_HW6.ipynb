{
 "cells": [
  {
   "cell_type": "code",
   "execution_count": 1,
   "metadata": {},
   "outputs": [],
   "source": [
    "import pandas as pd\n",
    "import numpy as np\n",
    "import time\n",
    "import matplotlib.pyplot as plt\n",
    "import seaborn as sns\n",
    "from sklearn.model_selection import train_test_split\n",
    "from sklearn import tree, linear_model\n",
    "from sklearn.metrics import accuracy_score,confusion_matrix,f1_score\n",
    "from sklearn.svm import SVC\n",
    "from sklearn.ensemble import RandomForestClassifier\n",
    "from xgboost import XGBClassifier\n",
    "%matplotlib inline"
   ]
  },
  {
   "cell_type": "code",
   "execution_count": 2,
   "metadata": {},
   "outputs": [],
   "source": [
    "rawdata=pd.read_csv('hr-analytics.csv')\n",
    "rawdata.fillna(rawdata.mean())\n",
    "rawdata.dropna(axis=1,inplace=True)\n",
    "rawdata=pd.get_dummies(rawdata)\n",
    "#rawdata"
   ]
  },
  {
   "cell_type": "code",
   "execution_count": 3,
   "metadata": {},
   "outputs": [],
   "source": [
    "y=rawdata['left']\n",
    "X=rawdata.drop(columns='left')\n",
    "X_train,X_test,y_train,y_test=train_test_split(X,y,test_size=0.3,random_state=42)"
   ]
  },
  {
   "cell_type": "code",
   "execution_count": 4,
   "metadata": {},
   "outputs": [
    {
     "name": "stdout",
     "output_type": "stream",
     "text": [
      "accuracy of decision tree: 0.9742222222222222\n",
      "Time: 0.028782129287719727\n"
     ]
    }
   ],
   "source": [
    "start_time = time.time()\n",
    "clf = tree.DecisionTreeClassifier()\n",
    "left_clf = clf.fit(X_train,y_train)\n",
    "pred = left_clf.predict(X_test)\n",
    "elapsed_time = time.time() - start_time\n",
    "print('accuracy of decision tree:',accuracy_score(y_test,pred))\n",
    "print('Time:',elapsed_time)"
   ]
  },
  {
   "cell_type": "code",
   "execution_count": 5,
   "metadata": {},
   "outputs": [
    {
     "name": "stdout",
     "output_type": "stream",
     "text": [
      "accuracy of SVM: 0.7717777777777778\n",
      "Time: 144.56733083724976\n"
     ]
    }
   ],
   "source": [
    "start_time=time.time()\n",
    "svm = SVC(kernel='linear', probability=True)\n",
    "svm.fit(X_train,y_train)\n",
    "pred=svm.predict(X_test)\n",
    "elapsed_time=time.time()-start_time\n",
    "print('accuracy of SVM:',accuracy_score(y_test,pred))\n",
    "print('Time:',elapsed_time)"
   ]
  },
  {
   "cell_type": "code",
   "execution_count": 6,
   "metadata": {
    "scrolled": true
   },
   "outputs": [
    {
     "name": "stdout",
     "output_type": "stream",
     "text": [
      "accuracy of logistic_regr: 0.7855555555555556\n",
      "Time: 0.10630011558532715\n"
     ]
    },
    {
     "name": "stderr",
     "output_type": "stream",
     "text": [
      "/home/heisenberg/.local/lib/python3.8/site-packages/sklearn/linear_model/_logistic.py:762: ConvergenceWarning: lbfgs failed to converge (status=1):\n",
      "STOP: TOTAL NO. of ITERATIONS REACHED LIMIT.\n",
      "\n",
      "Increase the number of iterations (max_iter) or scale the data as shown in:\n",
      "    https://scikit-learn.org/stable/modules/preprocessing.html\n",
      "Please also refer to the documentation for alternative solver options:\n",
      "    https://scikit-learn.org/stable/modules/linear_model.html#logistic-regression\n",
      "  n_iter_i = _check_optimize_result(\n"
     ]
    }
   ],
   "source": [
    "start_time=time.time()\n",
    "logistic_regr=linear_model.LogisticRegression()\n",
    "logistic_regr.fit(X_train,y_train)\n",
    "pred=logistic_regr.predict(X_test)\n",
    "accuracy_score(y_test,pred)\n",
    "elapsed_time=time.time()-start_time\n",
    "print('accuracy of logistic_regr:',accuracy_score(y_test,pred))\n",
    "print('Time:',elapsed_time)"
   ]
  },
  {
   "cell_type": "markdown",
   "metadata": {},
   "source": [
    "## 模型探討：\n",
    "Decision tree 較準確且執行時間較短\n",
    "\n",
    "\n",
    "\n",
    "# Titanic:"
   ]
  },
  {
   "cell_type": "code",
   "execution_count": 7,
   "metadata": {
    "scrolled": true
   },
   "outputs": [],
   "source": [
    "rawdata=pd.read_csv('titanic_train.csv')\n",
    "rawdata=rawdata.drop(['name','body','home.dest','cabin','ticket'],axis=1)\n",
    "rawdata=rawdata.fillna(rawdata.mean())\n",
    "#rawdata.dropna(axis=1,inplace=True)\n",
    "rawdata=pd.get_dummies(rawdata)\n",
    "#rawdata"
   ]
  },
  {
   "cell_type": "code",
   "execution_count": 8,
   "metadata": {},
   "outputs": [],
   "source": [
    "y=rawdata['survived']\n",
    "X=rawdata.drop(columns='survived')\n",
    "X_train,X_test,y_train,y_test=train_test_split(X,y,test_size=0.3,random_state=42)"
   ]
  },
  {
   "cell_type": "code",
   "execution_count": null,
   "metadata": {},
   "outputs": [],
   "source": [
    "start_time=time.time()\n",
    "svm = SVC(kernel='linear', probability=True)\n",
    "svm.fit(X_train,y_train)\n",
    "pred=svm.predict(X_test)\n",
    "elapsed_time=time.time()-start_time\n",
    "matrix=confusion_matrix(y_test,pred)\n",
    "class_names=[0,1]\n",
    "fig, ax = plt.subplots()\n",
    "tick_marks = np.arange(len(class_names))\n",
    "plt.xticks(tick_marks, class_names)\n",
    "plt.yticks(tick_marks, class_names)\n",
    "# create heatmap\n",
    "sns.heatmap(pd.DataFrame(matrix), annot=True, cmap=\"YlGnBu\" ,fmt='g')\n",
    "ax.xaxis.set_label_position(\"top\")\n",
    "plt.tight_layout()\n",
    "plt.title('Confusion matrix', y=1.1)\n",
    "plt.ylabel('Actual label')\n",
    "plt.xlabel('Predicted label')\n",
    "print('f1_score of SVM:',f1_score(y_test, pred))\n",
    "print('Time:',elapsed_time)"
   ]
  },
  {
   "cell_type": "code",
   "execution_count": null,
   "metadata": {},
   "outputs": [],
   "source": [
    "start_time=time.time()\n",
    "forest=RandomForestClassifier(criterion='entropy',n_estimators=10,random_state=3,n_jobs=6)\n",
    "forest.fit(X_train,y_train)\n",
    "pred=forest.predict(X_test)\n",
    "elapsed_time=time.time()-start_time\n",
    "matrix=confusion_matrix(y_test,pred)\n",
    "class_names=[0,1]\n",
    "fig, ax = plt.subplots()\n",
    "tick_marks = np.arange(len(class_names))\n",
    "plt.xticks(tick_marks, class_names)\n",
    "plt.yticks(tick_marks, class_names)\n",
    "# create heatmap\n",
    "sns.heatmap(pd.DataFrame(matrix), annot=True, cmap=\"YlGnBu\" ,fmt='g')\n",
    "ax.xaxis.set_label_position(\"top\")\n",
    "plt.tight_layout()\n",
    "plt.title('Confusion matrix', y=1.1)\n",
    "plt.ylabel('Actual label')\n",
    "plt.xlabel('Predicted label')\n",
    "print('f1_score of Random Forest:',f1_score(y_test, pred))\n",
    "print('Time:',elapsed_time)"
   ]
  },
  {
   "cell_type": "code",
   "execution_count": null,
   "metadata": {},
   "outputs": [],
   "source": [
    "start_time=time.time()\n",
    "model = XGBClassifier(max_depth=2, objective='binary:logistic')\n",
    "model.fit(X_train,y_train)\n",
    "pred=model.predict(X_test)\n",
    "\n",
    "\n",
    "elapsed_time=time.time()-start_time\n",
    "matrix=confusion_matrix(y_test,pred)\n",
    "class_names=[0,1]\n",
    "fig, ax = plt.subplots()\n",
    "tick_marks = np.arange(len(class_names))\n",
    "plt.xticks(tick_marks, class_names)\n",
    "plt.yticks(tick_marks, class_names)\n",
    "# create heatmap\n",
    "sns.heatmap(pd.DataFrame(matrix), annot=True, cmap=\"YlGnBu\" ,fmt='g')\n",
    "ax.xaxis.set_label_position(\"top\")\n",
    "plt.tight_layout()\n",
    "plt.title('Confusion matrix', y=1.1)\n",
    "plt.ylabel('Actual label')\n",
    "plt.xlabel('Predicted label')\n",
    "print('f1_score of XGBoost:',f1_score(y_test, pred))\n",
    "print('Time:',elapsed_time)"
   ]
  },
  {
   "cell_type": "code",
   "execution_count": null,
   "metadata": {},
   "outputs": [],
   "source": [
    "ori_test=pd.read_csv('titanic_test.csv')\n",
    "X_test=ori_test.drop(['name','body','home.dest','cabin','ticket'],axis=1)\n",
    "X_test=X_test.fillna(X_test.mean())\n",
    "X_test=pd.get_dummies(X_test)\n",
    "missing_cols = set( X_train.columns ) - set( X_test.columns )\n",
    "# Add a missing column in test set with default value equal to 0\n",
    "for c in missing_cols:\n",
    "    X_test[c] = 0\n",
    "X_test = X_test[X_train.columns]\n",
    "pred=svm.predict(X_test)\n",
    "dic={'Name':ori_test['name'],'Survival':pred}\n",
    "df=pd.DataFrame(dic)\n",
    "df.to_csv('titanic_pred.csv',index=0)"
   ]
  },
  {
   "cell_type": "code",
   "execution_count": null,
   "metadata": {},
   "outputs": [],
   "source": []
  }
 ],
 "metadata": {
  "kernelspec": {
   "display_name": "Python 3",
   "language": "python",
   "name": "python3"
  },
  "language_info": {
   "codemirror_mode": {
    "name": "ipython",
    "version": 3
   },
   "file_extension": ".py",
   "mimetype": "text/x-python",
   "name": "python",
   "nbconvert_exporter": "python",
   "pygments_lexer": "ipython3",
   "version": "3.8.5"
  }
 },
 "nbformat": 4,
 "nbformat_minor": 4
}
