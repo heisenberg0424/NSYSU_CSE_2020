{
 "cells": [
  {
   "cell_type": "code",
   "execution_count": 48,
   "metadata": {},
   "outputs": [],
   "source": [
    "import pandas as pd\n",
    "import numpy as np\n",
    "import time\n",
    "import matplotlib.pyplot as plt\n",
    "from sklearn.model_selection import train_test_split\n",
    "from sklearn import tree, linear_model\n",
    "from sklearn.metrics import accuracy_score\n",
    "from sklearn.svm import SVC\n",
    "from sklearn.ensemble import RandomForestClassifier\n",
    "from xgboost import XGBClassifier"
   ]
  },
  {
   "cell_type": "code",
   "execution_count": 49,
   "metadata": {},
   "outputs": [],
   "source": [
    "rawdata=pd.read_csv('hr-analytics.csv')\n",
    "rawdata.fillna(rawdata.mean())\n",
    "rawdata.dropna(axis=1,inplace=True)\n",
    "rawdata=pd.get_dummies(rawdata)\n",
    "#rawdata"
   ]
  },
  {
   "cell_type": "code",
   "execution_count": 50,
   "metadata": {},
   "outputs": [],
   "source": [
    "y=rawdata['left']\n",
    "X=rawdata.drop(columns='left')\n",
    "X_train,X_test,y_train,y_test=train_test_split(X,y,test_size=0.3,random_state=42)"
   ]
  },
  {
   "cell_type": "code",
   "execution_count": 51,
   "metadata": {},
   "outputs": [
    {
     "name": "stdout",
     "output_type": "stream",
     "text": [
      "accuracy of decision tree: 0.9744444444444444\n",
      "Time: 0.03005504608154297\n"
     ]
    }
   ],
   "source": [
    "start_time = time.time()\n",
    "clf = tree.DecisionTreeClassifier()\n",
    "left_clf = clf.fit(X_train,y_train)\n",
    "pred = left_clf.predict(X_test)\n",
    "elapsed_time = time.time() - start_time\n",
    "print('accuracy of decision tree:',accuracy_score(y_test,pred))\n",
    "print('Time:',elapsed_time)"
   ]
  },
  {
   "cell_type": "code",
   "execution_count": 52,
   "metadata": {},
   "outputs": [],
   "source": [
    "# start_time=time.time()\n",
    "# svm = SVC(kernel='linear', probability=True)\n",
    "# svm.fit(X_train,y_train)\n",
    "# pred=svm.predict(X_test)\n",
    "# elapsed_time=time.time()-start_time\n",
    "# print('accuracy of SVM:',accuracy_score(y_test,pred))\n",
    "# print('Time:',elapsed_time)"
   ]
  },
  {
   "cell_type": "code",
   "execution_count": 53,
   "metadata": {
    "scrolled": true
   },
   "outputs": [
    {
     "name": "stdout",
     "output_type": "stream",
     "text": [
      "accuracy of logistic_regr: 0.7855555555555556\n",
      "Time: 0.08833622932434082\n"
     ]
    },
    {
     "name": "stderr",
     "output_type": "stream",
     "text": [
      "/home/heisenberg/.local/lib/python3.8/site-packages/sklearn/linear_model/_logistic.py:762: ConvergenceWarning: lbfgs failed to converge (status=1):\n",
      "STOP: TOTAL NO. of ITERATIONS REACHED LIMIT.\n",
      "\n",
      "Increase the number of iterations (max_iter) or scale the data as shown in:\n",
      "    https://scikit-learn.org/stable/modules/preprocessing.html\n",
      "Please also refer to the documentation for alternative solver options:\n",
      "    https://scikit-learn.org/stable/modules/linear_model.html#logistic-regression\n",
      "  n_iter_i = _check_optimize_result(\n"
     ]
    }
   ],
   "source": [
    "start_time=time.time()\n",
    "logistic_regr=linear_model.LogisticRegression()\n",
    "logistic_regr.fit(X_train,y_train)\n",
    "pred=logistic_regr.predict(X_test)\n",
    "accuracy_score(y_test,pred)\n",
    "elapsed_time=time.time()-start_time\n",
    "print('accuracy of logistic_regr:',accuracy_score(y_test,pred))\n",
    "print('Time:',elapsed_time)"
   ]
  },
  {
   "cell_type": "markdown",
   "metadata": {},
   "source": [
    "## 模型探討：\n",
    "Decision tree 較準確且執行時間較短\n",
    "\n",
    "\n",
    "\n",
    "# Titanic:"
   ]
  },
  {
   "cell_type": "code",
   "execution_count": 54,
   "metadata": {
    "scrolled": true
   },
   "outputs": [
    {
     "data": {
      "text/html": [
       "<div>\n",
       "<style scoped>\n",
       "    .dataframe tbody tr th:only-of-type {\n",
       "        vertical-align: middle;\n",
       "    }\n",
       "\n",
       "    .dataframe tbody tr th {\n",
       "        vertical-align: top;\n",
       "    }\n",
       "\n",
       "    .dataframe thead th {\n",
       "        text-align: right;\n",
       "    }\n",
       "</style>\n",
       "<table border=\"1\" class=\"dataframe\">\n",
       "  <thead>\n",
       "    <tr style=\"text-align: right;\">\n",
       "      <th></th>\n",
       "      <th>pclass</th>\n",
       "      <th>survived</th>\n",
       "      <th>sibsp</th>\n",
       "      <th>parch</th>\n",
       "      <th>sex_female</th>\n",
       "      <th>sex_male</th>\n",
       "    </tr>\n",
       "  </thead>\n",
       "  <tbody>\n",
       "    <tr>\n",
       "      <th>0</th>\n",
       "      <td>3</td>\n",
       "      <td>1</td>\n",
       "      <td>1</td>\n",
       "      <td>0</td>\n",
       "      <td>1</td>\n",
       "      <td>0</td>\n",
       "    </tr>\n",
       "    <tr>\n",
       "      <th>1</th>\n",
       "      <td>3</td>\n",
       "      <td>0</td>\n",
       "      <td>0</td>\n",
       "      <td>0</td>\n",
       "      <td>0</td>\n",
       "      <td>1</td>\n",
       "    </tr>\n",
       "    <tr>\n",
       "      <th>2</th>\n",
       "      <td>3</td>\n",
       "      <td>1</td>\n",
       "      <td>0</td>\n",
       "      <td>0</td>\n",
       "      <td>0</td>\n",
       "      <td>1</td>\n",
       "    </tr>\n",
       "    <tr>\n",
       "      <th>3</th>\n",
       "      <td>1</td>\n",
       "      <td>0</td>\n",
       "      <td>0</td>\n",
       "      <td>0</td>\n",
       "      <td>0</td>\n",
       "      <td>1</td>\n",
       "    </tr>\n",
       "    <tr>\n",
       "      <th>4</th>\n",
       "      <td>3</td>\n",
       "      <td>1</td>\n",
       "      <td>0</td>\n",
       "      <td>0</td>\n",
       "      <td>1</td>\n",
       "      <td>0</td>\n",
       "    </tr>\n",
       "    <tr>\n",
       "      <th>...</th>\n",
       "      <td>...</td>\n",
       "      <td>...</td>\n",
       "      <td>...</td>\n",
       "      <td>...</td>\n",
       "      <td>...</td>\n",
       "      <td>...</td>\n",
       "    </tr>\n",
       "    <tr>\n",
       "      <th>868</th>\n",
       "      <td>2</td>\n",
       "      <td>1</td>\n",
       "      <td>1</td>\n",
       "      <td>2</td>\n",
       "      <td>1</td>\n",
       "      <td>0</td>\n",
       "    </tr>\n",
       "    <tr>\n",
       "      <th>869</th>\n",
       "      <td>3</td>\n",
       "      <td>0</td>\n",
       "      <td>0</td>\n",
       "      <td>2</td>\n",
       "      <td>1</td>\n",
       "      <td>0</td>\n",
       "    </tr>\n",
       "    <tr>\n",
       "      <th>870</th>\n",
       "      <td>3</td>\n",
       "      <td>0</td>\n",
       "      <td>0</td>\n",
       "      <td>0</td>\n",
       "      <td>0</td>\n",
       "      <td>1</td>\n",
       "    </tr>\n",
       "    <tr>\n",
       "      <th>871</th>\n",
       "      <td>1</td>\n",
       "      <td>0</td>\n",
       "      <td>0</td>\n",
       "      <td>0</td>\n",
       "      <td>0</td>\n",
       "      <td>1</td>\n",
       "    </tr>\n",
       "    <tr>\n",
       "      <th>872</th>\n",
       "      <td>3</td>\n",
       "      <td>0</td>\n",
       "      <td>4</td>\n",
       "      <td>1</td>\n",
       "      <td>0</td>\n",
       "      <td>1</td>\n",
       "    </tr>\n",
       "  </tbody>\n",
       "</table>\n",
       "<p>873 rows × 6 columns</p>\n",
       "</div>"
      ],
      "text/plain": [
       "     pclass  survived  sibsp  parch  sex_female  sex_male\n",
       "0         3         1      1      0           1         0\n",
       "1         3         0      0      0           0         1\n",
       "2         3         1      0      0           0         1\n",
       "3         1         0      0      0           0         1\n",
       "4         3         1      0      0           1         0\n",
       "..      ...       ...    ...    ...         ...       ...\n",
       "868       2         1      1      2           1         0\n",
       "869       3         0      0      2           1         0\n",
       "870       3         0      0      0           0         1\n",
       "871       1         0      0      0           0         1\n",
       "872       3         0      4      1           0         1\n",
       "\n",
       "[873 rows x 6 columns]"
      ]
     },
     "execution_count": 54,
     "metadata": {},
     "output_type": "execute_result"
    }
   ],
   "source": [
    "rawdata=pd.read_csv('titanic_train.csv')\n",
    "rawdata=rawdata.drop(['name','body','home.dest','cabin','ticket'],axis=1)\n",
    "rawdata.fillna(rawdata.mean())\n",
    "rawdata.dropna(axis=1,inplace=True)\n",
    "rawdata=pd.get_dummies(rawdata)\n",
    "rawdata"
   ]
  },
  {
   "cell_type": "code",
   "execution_count": 55,
   "metadata": {},
   "outputs": [],
   "source": [
    "y=rawdata['survived']\n",
    "X=rawdata.drop(columns='survived')\n",
    "X_train,X_test,y_train,y_test=train_test_split(X,y,test_size=0.3,random_state=42)"
   ]
  },
  {
   "cell_type": "code",
   "execution_count": 56,
   "metadata": {},
   "outputs": [
    {
     "name": "stdout",
     "output_type": "stream",
     "text": [
      "accuracy of SVM: 0.7519083969465649\n",
      "Time: 0.017607450485229492\n"
     ]
    }
   ],
   "source": [
    "start_time=time.time()\n",
    "svm = SVC(kernel='linear', probability=True)\n",
    "svm.fit(X_train,y_train)\n",
    "pred=svm.predict(X_test)\n",
    "elapsed_time=time.time()-start_time\n",
    "print('accuracy of SVM:',accuracy_score(y_test,pred))\n",
    "print('Time:',elapsed_time)"
   ]
  },
  {
   "cell_type": "code",
   "execution_count": 57,
   "metadata": {},
   "outputs": [
    {
     "name": "stdout",
     "output_type": "stream",
     "text": [
      "accuracy of Random Forest: 0.7557251908396947\n",
      "Time: 0.032468557357788086\n"
     ]
    }
   ],
   "source": [
    "start_time=time.time()\n",
    "forest=RandomForestClassifier(criterion='entropy',n_estimators=10,random_state=3,n_jobs=6)\n",
    "forest.fit(X_train,y_train)\n",
    "pred=forest.predict(X_test)\n",
    "elapsed_time=time.time()-start_time\n",
    "print('accuracy of Random Forest:',accuracy_score(y_test,pred))\n",
    "print('Time:',elapsed_time)"
   ]
  },
  {
   "cell_type": "code",
   "execution_count": 58,
   "metadata": {},
   "outputs": [
    {
     "name": "stdout",
     "output_type": "stream",
     "text": [
      "accuracy of XGBoost: 0.7557251908396947\n",
      "Time: 0.16096067428588867\n"
     ]
    }
   ],
   "source": [
    "start_time=time.time()\n",
    "xgb=XGBClassifier()\n",
    "xgb.fit(X_train,y_train)\n",
    "xgb.score(X_test,y_test)\n",
    "elapsed_time=time.time()-start_time\n",
    "print('accuracy of XGBoost:',accuracy_score(y_test,pred))\n",
    "print('Time:',elapsed_time)"
   ]
  },
  {
   "cell_type": "code",
   "execution_count": null,
   "metadata": {},
   "outputs": [],
   "source": []
  }
 ],
 "metadata": {
  "kernelspec": {
   "display_name": "Python 3",
   "language": "python",
   "name": "python3"
  },
  "language_info": {
   "codemirror_mode": {
    "name": "ipython",
    "version": 3
   },
   "file_extension": ".py",
   "mimetype": "text/x-python",
   "name": "python",
   "nbconvert_exporter": "python",
   "pygments_lexer": "ipython3",
   "version": "3.8.5"
  }
 },
 "nbformat": 4,
 "nbformat_minor": 4
}
