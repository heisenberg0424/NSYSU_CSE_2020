{
 "cells": [
  {
   "cell_type": "code",
   "execution_count": 1,
   "metadata": {},
   "outputs": [],
   "source": [
    "import tensorflow as tf\n",
    "import pandas as pd\n",
    "from tensorflow.keras import models\n",
    "from tensorflow.compat.v1 import ConfigProto, InteractiveSession\n",
    "import numpy as np\n",
    "from PIL import Image\n",
    "import random\n",
    "\n",
    "config = ConfigProto()\n",
    "config.gpu_options.allow_growth = True\n",
    "config.gpu_options.per_process_gpu_memory_fraction = 0.6\n",
    "sess = InteractiveSession(config=config)"
   ]
  },
  {
   "cell_type": "code",
   "execution_count": 2,
   "metadata": {},
   "outputs": [
    {
     "name": "stdout",
     "output_type": "stream",
     "text": [
      "Model: \"sequential\"\n",
      "_________________________________________________________________\n",
      "Layer (type)                 Output Shape              Param #   \n",
      "=================================================================\n",
      "conv2d (Conv2D)              (None, 198, 198, 32)      896       \n",
      "_________________________________________________________________\n",
      "conv2d_1 (Conv2D)            (None, 196, 196, 32)      9248      \n",
      "_________________________________________________________________\n",
      "batch_normalization (BatchNo (None, 196, 196, 32)      128       \n",
      "_________________________________________________________________\n",
      "max_pooling2d (MaxPooling2D) (None, 98, 98, 32)        0         \n",
      "_________________________________________________________________\n",
      "conv2d_2 (Conv2D)            (None, 96, 96, 64)        18496     \n",
      "_________________________________________________________________\n",
      "conv2d_3 (Conv2D)            (None, 94, 94, 64)        36928     \n",
      "_________________________________________________________________\n",
      "batch_normalization_1 (Batch (None, 94, 94, 64)        256       \n",
      "_________________________________________________________________\n",
      "max_pooling2d_1 (MaxPooling2 (None, 47, 47, 64)        0         \n",
      "_________________________________________________________________\n",
      "conv2d_4 (Conv2D)            (None, 45, 45, 128)       73856     \n",
      "_________________________________________________________________\n",
      "conv2d_5 (Conv2D)            (None, 43, 43, 128)       147584    \n",
      "_________________________________________________________________\n",
      "batch_normalization_2 (Batch (None, 43, 43, 128)       512       \n",
      "_________________________________________________________________\n",
      "max_pooling2d_2 (MaxPooling2 (None, 21, 21, 128)       0         \n",
      "_________________________________________________________________\n",
      "flatten (Flatten)            (None, 56448)             0         \n",
      "_________________________________________________________________\n",
      "dropout (Dropout)            (None, 56448)             0         \n",
      "_________________________________________________________________\n",
      "dense (Dense)                (None, 1024)              57803776  \n",
      "_________________________________________________________________\n",
      "dense_1 (Dense)              (None, 512)               524800    \n",
      "_________________________________________________________________\n",
      "dense_2 (Dense)              (None, 5)                 2565      \n",
      "=================================================================\n",
      "Total params: 58,619,045\n",
      "Trainable params: 58,618,597\n",
      "Non-trainable params: 448\n",
      "_________________________________________________________________\n"
     ]
    }
   ],
   "source": [
    "cnn=tf.keras.models.load_model('mango_cnn.h5')\n",
    "cnn.summary()"
   ]
  },
  {
   "cell_type": "code",
   "execution_count": 3,
   "metadata": {},
   "outputs": [
    {
     "name": "stderr",
     "output_type": "stream",
     "text": [
      "/usr/lib/python3/dist-packages/IPython/core/interactiveshell.py:3062: DtypeWarning: Columns (30,35,40,45,50,55,60,65,70,75,80,85,90,95,100,105,110,115,120,125,130,135) have mixed types.Specify dtype option on import or set low_memory=False.\n",
      "  has_raised = await self.run_ast_nodes(code_ast.body, cell_name,\n"
     ]
    },
    {
     "data": {
      "text/html": [
       "<div>\n",
       "<style scoped>\n",
       "    .dataframe tbody tr th:only-of-type {\n",
       "        vertical-align: middle;\n",
       "    }\n",
       "\n",
       "    .dataframe tbody tr th {\n",
       "        vertical-align: top;\n",
       "    }\n",
       "\n",
       "    .dataframe thead th {\n",
       "        text-align: right;\n",
       "    }\n",
       "</style>\n",
       "<table border=\"1\" class=\"dataframe\">\n",
       "  <thead>\n",
       "    <tr style=\"text-align: right;\">\n",
       "      <th></th>\n",
       "      <th>file</th>\n",
       "      <th>x1</th>\n",
       "      <th>y1</th>\n",
       "      <th>x2</th>\n",
       "      <th>y2</th>\n",
       "      <th>damage</th>\n",
       "    </tr>\n",
       "  </thead>\n",
       "  <tbody>\n",
       "    <tr>\n",
       "      <th>0</th>\n",
       "      <td>38414.jpg</td>\n",
       "      <td>46.0</td>\n",
       "      <td>146.0</td>\n",
       "      <td>622.0</td>\n",
       "      <td>720.0</td>\n",
       "      <td>不良-機械傷害</td>\n",
       "    </tr>\n",
       "    <tr>\n",
       "      <th>1</th>\n",
       "      <td>03182.jpg</td>\n",
       "      <td>581.0</td>\n",
       "      <td>277.0</td>\n",
       "      <td>678.0</td>\n",
       "      <td>370.0</td>\n",
       "      <td>不良-機械傷害</td>\n",
       "    </tr>\n",
       "    <tr>\n",
       "      <th>2</th>\n",
       "      <td>29863.jpg</td>\n",
       "      <td>514.0</td>\n",
       "      <td>538.0</td>\n",
       "      <td>631.0</td>\n",
       "      <td>682.0</td>\n",
       "      <td>不良-機械傷害</td>\n",
       "    </tr>\n",
       "    <tr>\n",
       "      <th>3</th>\n",
       "      <td>17937.jpg</td>\n",
       "      <td>658.0</td>\n",
       "      <td>263.0</td>\n",
       "      <td>717.0</td>\n",
       "      <td>337.0</td>\n",
       "      <td>不良-機械傷害</td>\n",
       "    </tr>\n",
       "    <tr>\n",
       "      <th>4</th>\n",
       "      <td>40878.jpg</td>\n",
       "      <td>432.0</td>\n",
       "      <td>160.0</td>\n",
       "      <td>548.0</td>\n",
       "      <td>292.0</td>\n",
       "      <td>不良-機械傷害</td>\n",
       "    </tr>\n",
       "    <tr>\n",
       "      <th>...</th>\n",
       "      <td>...</td>\n",
       "      <td>...</td>\n",
       "      <td>...</td>\n",
       "      <td>...</td>\n",
       "      <td>...</td>\n",
       "      <td>...</td>\n",
       "    </tr>\n",
       "    <tr>\n",
       "      <th>43365</th>\n",
       "      <td>02176.jpg</td>\n",
       "      <td>838.0</td>\n",
       "      <td>636.0</td>\n",
       "      <td>868.0</td>\n",
       "      <td>657.0</td>\n",
       "      <td>不良-炭疽病</td>\n",
       "    </tr>\n",
       "    <tr>\n",
       "      <th>43366</th>\n",
       "      <td>48869.jpg</td>\n",
       "      <td>181.0</td>\n",
       "      <td>435.0</td>\n",
       "      <td>229.0</td>\n",
       "      <td>473.0</td>\n",
       "      <td>不良-炭疽病</td>\n",
       "    </tr>\n",
       "    <tr>\n",
       "      <th>43367</th>\n",
       "      <td>02176.jpg</td>\n",
       "      <td>547.0</td>\n",
       "      <td>240.0</td>\n",
       "      <td>567.0</td>\n",
       "      <td>258.0</td>\n",
       "      <td>不良-炭疽病</td>\n",
       "    </tr>\n",
       "    <tr>\n",
       "      <th>43368</th>\n",
       "      <td>02176.jpg</td>\n",
       "      <td>514.0</td>\n",
       "      <td>257.0</td>\n",
       "      <td>530.0</td>\n",
       "      <td>271.0</td>\n",
       "      <td>不良-炭疽病</td>\n",
       "    </tr>\n",
       "    <tr>\n",
       "      <th>43369</th>\n",
       "      <td>02176.jpg</td>\n",
       "      <td>578.0</td>\n",
       "      <td>657.0</td>\n",
       "      <td>859.0</td>\n",
       "      <td>750.0</td>\n",
       "      <td>不良-乳汁吸附</td>\n",
       "    </tr>\n",
       "  </tbody>\n",
       "</table>\n",
       "<p>43370 rows × 6 columns</p>\n",
       "</div>"
      ],
      "text/plain": [
       "            file     x1     y1     x2     y2   damage\n",
       "0      38414.jpg   46.0  146.0  622.0  720.0  不良-機械傷害\n",
       "1      03182.jpg  581.0  277.0  678.0  370.0  不良-機械傷害\n",
       "2      29863.jpg  514.0  538.0  631.0  682.0  不良-機械傷害\n",
       "3      17937.jpg  658.0  263.0  717.0  337.0  不良-機械傷害\n",
       "4      40878.jpg  432.0  160.0  548.0  292.0  不良-機械傷害\n",
       "...          ...    ...    ...    ...    ...      ...\n",
       "43365  02176.jpg  838.0  636.0  868.0  657.0   不良-炭疽病\n",
       "43366  48869.jpg  181.0  435.0  229.0  473.0   不良-炭疽病\n",
       "43367  02176.jpg  547.0  240.0  567.0  258.0   不良-炭疽病\n",
       "43368  02176.jpg  514.0  257.0  530.0  271.0   不良-炭疽病\n",
       "43369  02176.jpg  578.0  657.0  859.0  750.0  不良-乳汁吸附\n",
       "\n",
       "[43370 rows x 6 columns]"
      ]
     },
     "execution_count": 3,
     "metadata": {},
     "output_type": "execute_result"
    }
   ],
   "source": [
    "label=pd.read_csv('TrainDev/train.csv',header=None)\n",
    "label=label.dropna(axis=1,how='all')\n",
    "data=label[[0,1,2,3,4,5]]\n",
    "for i in range(1,int((label.shape[1]-1)/5)):\n",
    "    current=5*i\n",
    "    add_index=[0,current+1,current+2,current+3,current+4,current+5]\n",
    "    add_index=label[add_index]\n",
    "    add_index.columns=[0,1,2,3,4,5]\n",
    "    data=data.append(add_index,ignore_index=True)\n",
    "data=data.dropna(axis=0)\n",
    "data.columns=['file','x1','y1','x2','y2','damage']\n",
    "data['x2']+=data['x1']\n",
    "data['y2']+=data['y1']\n",
    "data.index=[i for i in range(data.shape[0])]\n",
    "data"
   ]
  },
  {
   "cell_type": "code",
   "execution_count": 14,
   "metadata": {},
   "outputs": [
    {
     "name": "stdout",
     "output_type": "stream",
     "text": [
      "y_test shape:  (1000, 5)\n",
      "x_test shape:  (1000, 200, 200, 3)\n"
     ]
    }
   ],
   "source": [
    "x_test=[]\n",
    "y_test=[]\n",
    "for _ in range(1000):\n",
    "    i=random.randint(data.shape[0]/2,data.shape[0]-1)\n",
    "    x=Image.open('TrainDev/Pics/'+data['file'][i])\n",
    "    x=x.crop((data['x1'][i],data['y1'][i],data['x2'][i],data['y2'][i]))\n",
    "    x=x.resize((200,200))\n",
    "    x=np.array(x)\n",
    "    x_test.append(x)\n",
    "    y_test.append(data['damage'][i])\n",
    "x_test=np.array(x_test)\n",
    "# y_test=data['damage']\n",
    "# y_test=y_test[-1000:]\n",
    "y_test=pd.get_dummies(y_test)\n",
    "y_test=y_test.to_numpy()\n",
    "print('y_test shape: ',y_test.shape)\n",
    "print('x_test shape: ',x_test.shape)"
   ]
  },
  {
   "cell_type": "code",
   "execution_count": 15,
   "metadata": {},
   "outputs": [],
   "source": [
    "pred=cnn.predict(x_test)"
   ]
  },
  {
   "cell_type": "code",
   "execution_count": 16,
   "metadata": {},
   "outputs": [],
   "source": [
    "for i in range(pred.shape[0]):\n",
    "    temp=np.zeros(5)\n",
    "    temp[np.argmax(pred[i])]=1\n",
    "    pred[i]=temp\n"
   ]
  },
  {
   "cell_type": "code",
   "execution_count": 17,
   "metadata": {},
   "outputs": [],
   "source": [
    "from sklearn.metrics import accuracy_score"
   ]
  },
  {
   "cell_type": "code",
   "execution_count": 18,
   "metadata": {},
   "outputs": [
    {
     "data": {
      "text/plain": [
       "0.803"
      ]
     },
     "execution_count": 18,
     "metadata": {},
     "output_type": "execute_result"
    }
   ],
   "source": [
    "accuracy_score(y_test, pred)"
   ]
  },
  {
   "cell_type": "code",
   "execution_count": null,
   "metadata": {},
   "outputs": [],
   "source": []
  }
 ],
 "metadata": {
  "kernelspec": {
   "display_name": "Python 3",
   "language": "python",
   "name": "python3"
  },
  "language_info": {
   "codemirror_mode": {
    "name": "ipython",
    "version": 3
   },
   "file_extension": ".py",
   "mimetype": "text/x-python",
   "name": "python",
   "nbconvert_exporter": "python",
   "pygments_lexer": "ipython3",
   "version": "3.8.5"
  }
 },
 "nbformat": 4,
 "nbformat_minor": 4
}
