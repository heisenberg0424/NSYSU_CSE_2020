{
 "cells": [
  {
   "cell_type": "code",
   "execution_count": 29,
   "metadata": {},
   "outputs": [],
   "source": [
    "import matplotlib.pyplot as plt\n",
    "import numpy as np\n",
    "%matplotlib inline"
   ]
  },
  {
   "cell_type": "code",
   "execution_count": 30,
   "metadata": {},
   "outputs": [],
   "source": [
    "def yval (x,coef):\n",
    "    return coef[0]*(x**3) +coef[1]*(x**2) +coef[2]*(x**1) +coef[3]"
   ]
  },
  {
   "cell_type": "code",
   "execution_count": 31,
   "metadata": {},
   "outputs": [
    {
     "name": "stdout",
     "output_type": "stream",
     "text": [
      "Input the coefficient of a third order equation: (format a, b, c, d)2, -3, 1, -7\n"
     ]
    }
   ],
   "source": [
    "while True:\n",
    "    a=input(\"Input the coefficient of a third order equation: (format a, b, c, d)\")\n",
    "    try:\n",
    "        coef=a.split(\",\")\n",
    "\n",
    "        for i in range(len(coef)) :\n",
    "            coef[i]=int(coef[i])\n",
    "\n",
    "        if len(coef)!=4 :\n",
    "            raise\n",
    "\n",
    "        break\n",
    "\n",
    "    except :\n",
    "        print('Error')\n",
    "    \n",
    "    #test case :2, -3, 1, -7"
   ]
  },
  {
   "cell_type": "code",
   "execution_count": 32,
   "metadata": {},
   "outputs": [
    {
     "name": "stdout",
     "output_type": "stream",
     "text": [
      "Input the coordinates of five points:9, 20, 1, 3, 4, 7, 24, 1, 30,20 \n"
     ]
    }
   ],
   "source": [
    "while True :\n",
    "    a=input(\"Input the coordinates of five points:\")\n",
    "    coor=a.split(\",\")\n",
    "    for i in range (len(coor)) :\n",
    "        coor[i]=int(coor[i])\n",
    "    if len(coor)%2 == 0 :\n",
    "        break\n",
    "    print(\" ENTER EVEN NUMBERS! \")\n",
    "    \n",
    "    #test case: 9, 20, 1, 3, 4, 7, 24, 1, 30,20 "
   ]
  },
  {
   "cell_type": "code",
   "execution_count": 33,
   "metadata": {},
   "outputs": [],
   "source": [
    "maxx=minx=coor[0]\n",
    "for i in range(5) :\n",
    "    if coor[2*i] > maxx :\n",
    "        maxx=coor[2*i]\n",
    "    if coor[2*i] < minx :\n",
    "        minx=coor[2*i]"
   ]
  },
  {
   "cell_type": "code",
   "execution_count": 34,
   "metadata": {},
   "outputs": [
    {
     "data": {
      "image/png": "[encoded data removed]",
      "text/plain": [
       "<Figure size 432x288 with 1 Axes>"
      ]
     },
     "metadata": {
      "needs_background": "light"
     },
     "output_type": "display_data"
    }
   ],
   "source": [
    "x=np.linspace(minx,maxx, 1000)\n",
    "y=yval(x,coef)\n",
    "plt.plot(x,y,color='m')\n",
    "for i in range(5):\n",
    "    if yval(coor[2*i],coef) > coor[2*i+1]:\n",
    "        plt.plot(coor[2*i],coor[2*i+1],'bo')\n",
    "    elif yval(coor[2*i],coef) < coor[2*i+1]:\n",
    "        plt.plot(coor[2*i],coor[2*i+1],'ro')\n",
    "    else:\n",
    "        plt.plot(coor[2*i],coor[2*i+1],'go')"
   ]
  },
  {
   "cell_type": "code",
   "execution_count": null,
   "metadata": {},
   "outputs": [],
   "source": []
  },
  {
   "cell_type": "code",
   "execution_count": null,
   "metadata": {},
   "outputs": [],
   "source": []
  }
 ],
 "metadata": {
  "kernelspec": {
   "display_name": "Python 3",
   "language": "python",
   "name": "python3"
  },
  "language_info": {
   "codemirror_mode": {
    "name": "ipython",
    "version": 3
   },
   "file_extension": ".py",
   "mimetype": "text/x-python",
   "name": "python",
   "nbconvert_exporter": "python",
   "pygments_lexer": "ipython3",
   "version": "3.8.2"
  }
 },
 "nbformat": 4,
 "nbformat_minor": 4
}
