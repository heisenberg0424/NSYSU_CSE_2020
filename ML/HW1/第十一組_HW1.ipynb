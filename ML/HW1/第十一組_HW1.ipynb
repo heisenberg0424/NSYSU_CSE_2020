{
 "cells": [
  {
   "cell_type": "code",
   "execution_count": 66,
   "metadata": {},
   "outputs": [],
   "source": [
    "import matplotlib.pyplot as plt\n",
    "import math\n",
    "import numpy as np\n",
    "%matplotlib inline"
   ]
  },
  {
   "cell_type": "code",
   "execution_count": 67,
   "metadata": {},
   "outputs": [],
   "source": [
    "def yval (x,coef):\n",
    "    return coef[0]*(x**3) +coef[1]*(x**2) +coef[2]*(x**1) +coef[3]"
   ]
  },
  {
   "cell_type": "code",
   "execution_count": 68,
   "metadata": {},
   "outputs": [
    {
     "name": "stdout",
     "output_type": "stream",
     "text": [
      "Input the coefficient of a third order equation: (format a, b, c, d)2, -3, 1, -7\n"
     ]
    }
   ],
   "source": [
    "while True:\n",
    "    a=input(\"Input the coefficient of a third order equation: (format a, b, c, d)\")\n",
    "    try:\n",
    "        coef=a.split(\",\")\n",
    "\n",
    "        for i in range(len(coef)) :\n",
    "            coef[i]=int(coef[i])\n",
    "\n",
    "        if len(coef)!=4 :\n",
    "            raise\n",
    "\n",
    "        break\n",
    "\n",
    "    except :\n",
    "        print('Error')\n",
    "    \n",
    "    #test case :2, -3, 1, -7"
   ]
  },
  {
   "cell_type": "code",
   "execution_count": 69,
   "metadata": {},
   "outputs": [
    {
     "name": "stdout",
     "output_type": "stream",
     "text": [
      "Input the coordinates of five points:9, 20, 1, 3, 4, 7, 24, 1, 30,20 \n"
     ]
    }
   ],
   "source": [
    "while True :\n",
    "    a=input(\"Input the coordinates of five points:\")\n",
    "    coor=a.split(\",\")\n",
    "    for i in range (len(coor)) :\n",
    "        coor[i]=int(coor[i])\n",
    "    if len(coor)%2 == 0 :\n",
    "        break\n",
    "    print(\" ENTER EVEN NUMBERS! \")\n",
    "    \n",
    "    #test case: 9, 20, 1, 3, 4, 7, 24, 1, 30,20 "
   ]
  },
  {
   "cell_type": "code",
   "execution_count": 70,
   "metadata": {},
   "outputs": [],
   "source": [
    "maxx=minx=coor[0]\n",
    "for i in range(5) :\n",
    "    if coor[2*i] > maxx :\n",
    "        maxx=coor[2*i]\n",
    "    if coor[2*i] < minx :\n",
    "        minx=coor[2*i]"
   ]
  },
  {
   "cell_type": "code",
   "execution_count": 71,
   "metadata": {},
   "outputs": [
    {
     "data": {
      "text/plain": [
       "<matplotlib.legend.Legend at 0x7fc5a101f490>"
      ]
     },
     "execution_count": 71,
     "metadata": {},
     "output_type": "execute_result"
    },
    {
     "data": {
      "image/png": "[encoded data removed]",
      "text/plain": [
       "<Figure size 432x288 with 1 Axes>"
      ]
     },
     "metadata": {
      "needs_background": "light"
     },
     "output_type": "display_data"
    }
   ],
   "source": [
    "x=np.linspace(minx,maxx, 1000)\n",
    "y=yval(x,coef)\n",
    "plt.plot(x,y,color='m',label='the curve')\n",
    "plt.ylabel('f(x)')\n",
    "plt.xlabel('x')\n",
    "plt.title('Graph')\n",
    "for i in range(5):\n",
    "    if yval(coor[2*i],coef) > coor[2*i+1]:\n",
    "        plt.plot(coor[2*i],coor[2*i+1],'bo')\n",
    "    elif yval(coor[2*i],coef) < coor[2*i+1]:\n",
    "        plt.plot(coor[2*i],coor[2*i+1],'ro')\n",
    "    else:\n",
    "        plt.plot(coor[2*i],coor[2*i+1],'go')\n",
    "plt.legend()"
   ]
  },
  {
   "cell_type": "code",
   "execution_count": 72,
   "metadata": {},
   "outputs": [
    {
     "name": "stdout",
     "output_type": "stream",
     "text": [
      "極值點為:0.00000,最小值為:-7.00000\n",
      "極值點為:10.00000,最大值為:1703.00000\n"
     ]
    }
   ],
   "source": [
    "def dx(x):\n",
    "    return 3*coef[0]*(x**2) +2*coef[1]*(x**1) +coef[2]\n",
    "\n",
    "min=yval(0,coef);minx=0 \n",
    "max=yval(0,coef);maxx=0\n",
    "for k in range(11):\n",
    "    x=k \n",
    "    a=0.1\n",
    "    err=0.00000001\n",
    "    f_old=yval(x,coef)\n",
    "    if(min>f_old):\n",
    "        min=f_old\n",
    "        minx=x \n",
    "    if(max<f_old):\n",
    "        max=f_old\n",
    "        maxx=x \n",
    "    while x>=0 and x<=10:\n",
    "        x += a*dx(x)\n",
    "        f_result=yval(x,coef)\n",
    "        if abs(f_result-f_old)<err:\n",
    "            if(min>f_result):\n",
    "                min=f_result\n",
    "                minx=x\n",
    "            if(max<f_result):\n",
    "                max=f_result\n",
    "                maxx=x \n",
    "            break\n",
    "        f_old=f_result\n",
    "    \n",
    "print(\"極值點為:%.5f,最小值為:%.5f\" % (minx,min))     \n",
    "\n",
    "\n",
    "print(\"極值點為:%.5f,最大值為:%.5f\" % (maxx,max))        "
   ]
  },
  {
   "cell_type": "code",
   "execution_count": null,
   "metadata": {},
   "outputs": [],
   "source": []
  },
  {
   "cell_type": "code",
   "execution_count": null,
   "metadata": {},
   "outputs": [],
   "source": []
  }
 ],
 "metadata": {
  "kernelspec": {
   "display_name": "Python 3",
   "language": "python",
   "name": "python3"
  },
  "language_info": {
   "codemirror_mode": {
    "name": "ipython",
    "version": 3
   },
   "file_extension": ".py",
   "mimetype": "text/x-python",
   "name": "python",
   "nbconvert_exporter": "python",
   "pygments_lexer": "ipython3",
   "version": "3.8.2"
  }
 },
 "nbformat": 4,
 "nbformat_minor": 4
}
